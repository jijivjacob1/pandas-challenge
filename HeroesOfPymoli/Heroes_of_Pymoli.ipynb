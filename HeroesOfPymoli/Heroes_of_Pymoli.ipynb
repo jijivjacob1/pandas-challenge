{
 "cells": [
  {
   "cell_type": "markdown",
   "metadata": {},
   "source": [
    "# Heroes Of Pymoli Data Analysis"
   ]
  },
  {
   "cell_type": "markdown",
   "metadata": {},
   "source": [
    "1> More Male players  like the game\n",
    "2> The game is liked by players in the age group of 15-29 especially in the 20-24 age bracket\n",
    "3> 'Retribution Axe' is most profitable and popular item ,company should develop/build on this product"
   ]
  },
  {
   "cell_type": "code",
   "execution_count": 119,
   "metadata": {
    "collapsed": true
   },
   "outputs": [],
   "source": [
    "import pandas as pd"
   ]
  },
  {
   "cell_type": "code",
   "execution_count": 120,
   "metadata": {
    "collapsed": true
   },
   "outputs": [],
   "source": [
    "file_path1 = \"purchase_data.json\"\n",
    "file_path2 = \"purchase_data2.json\"\n"
   ]
  },
  {
   "cell_type": "code",
   "execution_count": 121,
   "metadata": {
    "collapsed": true
   },
   "outputs": [],
   "source": [
    "#concatenate the 2 input files\n",
    "df_purchase_data1 = pd.read_json(file_path1)\n",
    "df_purchase_data2 = pd.read_json(file_path2)\n",
    "df_purchase_data = pd.concat([df_purchase_data1,df_purchase_data2])"
   ]
  },
  {
   "cell_type": "markdown",
   "metadata": {},
   "source": [
    "# Player Counts"
   ]
  },
  {
   "cell_type": "code",
   "execution_count": 122,
   "metadata": {
    "collapsed": true
   },
   "outputs": [],
   "source": [
    "#by appending the files SN is not the Key for few records so total player and gender counts were having a mismatch\n",
    "#so created a new unique key comprising of SN,Age and Gender "
   ]
  },
  {
   "cell_type": "code",
   "execution_count": 123,
   "metadata": {
    "collapsed": true
   },
   "outputs": [],
   "source": [
    "df_purchase_data[\"id_player\"] = df_purchase_data[\"SN\"] + '-' + df_purchase_data[\"Age\"].astype(str)+ '-'\\\n",
    "                                + df_purchase_data[\"Gender\"]\n",
    "# Get totals players using new key id player\n",
    "total_players = df_purchase_data[\"id_player\"].nunique()\n"
   ]
  },
  {
   "cell_type": "code",
   "execution_count": 124,
   "metadata": {},
   "outputs": [
    {
     "data": {
      "text/html": [
       "<div>\n",
       "<style>\n",
       "    .dataframe thead tr:only-child th {\n",
       "        text-align: right;\n",
       "    }\n",
       "\n",
       "    .dataframe thead th {\n",
       "        text-align: left;\n",
       "    }\n",
       "\n",
       "    .dataframe tbody tr th {\n",
       "        vertical-align: top;\n",
       "    }\n",
       "</style>\n",
       "<table border=\"1\" class=\"dataframe\">\n",
       "  <thead>\n",
       "    <tr style=\"text-align: right;\">\n",
       "      <th></th>\n",
       "      <th>Total Players</th>\n",
       "    </tr>\n",
       "  </thead>\n",
       "  <tbody>\n",
       "    <tr>\n",
       "      <th>0</th>\n",
       "      <td>646</td>\n",
       "    </tr>\n",
       "  </tbody>\n",
       "</table>\n",
       "</div>"
      ],
      "text/plain": [
       "   Total Players\n",
       "0            646"
      ]
     },
     "execution_count": 124,
     "metadata": {},
     "output_type": "execute_result"
    }
   ],
   "source": [
    "#Display Total Players\n",
    "df_total_players = pd.DataFrame({\"Total Players\":[total_players]})\n",
    "df_total_players"
   ]
  },
  {
   "cell_type": "markdown",
   "metadata": {},
   "source": [
    "# Purchasing Analysis (Total)"
   ]
  },
  {
   "cell_type": "code",
   "execution_count": 125,
   "metadata": {
    "collapsed": true
   },
   "outputs": [],
   "source": [
    "#Get totals and store in variables\n",
    "nbr_unique_items = df_purchase_data[\"Item ID\"].nunique()\n",
    "avg_price = df_purchase_data[\"Price\"].mean()\n",
    "tot_purchase = df_purchase_data[\"Item ID\"].count()\n",
    "tot_revenue = df_purchase_data[\"Price\"].sum()"
   ]
  },
  {
   "cell_type": "code",
   "execution_count": 126,
   "metadata": {},
   "outputs": [
    {
     "data": {
      "text/html": [
       "<div>\n",
       "<style>\n",
       "    .dataframe thead tr:only-child th {\n",
       "        text-align: right;\n",
       "    }\n",
       "\n",
       "    .dataframe thead th {\n",
       "        text-align: left;\n",
       "    }\n",
       "\n",
       "    .dataframe tbody tr th {\n",
       "        vertical-align: top;\n",
       "    }\n",
       "</style>\n",
       "<table border=\"1\" class=\"dataframe\">\n",
       "  <thead>\n",
       "    <tr style=\"text-align: right;\">\n",
       "      <th></th>\n",
       "      <th>Average Price</th>\n",
       "      <th>Number of Purchases</th>\n",
       "      <th>Number of Unique Items</th>\n",
       "      <th>Total Revenue</th>\n",
       "    </tr>\n",
       "  </thead>\n",
       "  <tbody>\n",
       "    <tr>\n",
       "      <th>0</th>\n",
       "      <td>$2.93</td>\n",
       "      <td>858</td>\n",
       "      <td>184</td>\n",
       "      <td>$2,514.43</td>\n",
       "    </tr>\n",
       "  </tbody>\n",
       "</table>\n",
       "</div>"
      ],
      "text/plain": [
       "  Average Price  Number of Purchases  Number of Unique Items Total Revenue\n",
       "0         $2.93                  858                     184     $2,514.43"
      ]
     },
     "execution_count": 126,
     "metadata": {},
     "output_type": "execute_result"
    }
   ],
   "source": [
    "# set total in dataframe and display output\n",
    "df_total_purchase_anal = pd.DataFrame({\"Number of Unique Items\":[nbr_unique_items],\n",
    "                                       \"Average Price\":[avg_price],\n",
    "                                       \"Number of Purchases\":[tot_purchase],\n",
    "                                       \"Total Revenue\":[tot_revenue]\n",
    "                                     })\n",
    "\n",
    "df_total_purchase_anal[\"Average Price\"] = df_total_purchase_anal[\"Average Price\"].map(\"${0:,.2f}\".format)\n",
    "df_total_purchase_anal[\"Total Revenue\"] = df_total_purchase_anal[\"Total Revenue\"].map(\"${0:,.2f}\".format)\n",
    "df_total_purchase_anal"
   ]
  },
  {
   "cell_type": "markdown",
   "metadata": {},
   "source": [
    "# Gender Demographics"
   ]
  },
  {
   "cell_type": "code",
   "execution_count": 127,
   "metadata": {
    "collapsed": true
   },
   "outputs": [],
   "source": [
    "#group by gender to get totals\n",
    "df_gender_group = df_purchase_data.groupby(\"Gender\")"
   ]
  },
  {
   "cell_type": "code",
   "execution_count": 128,
   "metadata": {
    "collapsed": true
   },
   "outputs": [],
   "source": [
    "# Custom Function to calculate percent totals\n",
    "def tot_player_ratio(x):\n",
    "    return x/total_players"
   ]
  },
  {
   "cell_type": "code",
   "execution_count": 129,
   "metadata": {
    "collapsed": true
   },
   "outputs": [],
   "source": [
    "#get totals store and then from dataframe\n",
    "df_gender_dem = pd.DataFrame(df_gender_group[\"id_player\"].nunique())\n",
    "df_gender_dem = df_gender_dem.rename(columns = {\"id_player\":\"Total Count\"})"
   ]
  },
  {
   "cell_type": "code",
   "execution_count": 130,
   "metadata": {
    "collapsed": true
   },
   "outputs": [],
   "source": [
    "\n",
    "df_gender_dem['Percent of Players'] = ((df_gender_dem[\"Total Count\"].map(tot_player_ratio)) * 100)\\\n",
    "                                        .map(\"{0:,.2f}%\".format)"
   ]
  },
  {
   "cell_type": "code",
   "execution_count": 131,
   "metadata": {},
   "outputs": [
    {
     "data": {
      "text/html": [
       "<div>\n",
       "<style>\n",
       "    .dataframe thead tr:only-child th {\n",
       "        text-align: right;\n",
       "    }\n",
       "\n",
       "    .dataframe thead th {\n",
       "        text-align: left;\n",
       "    }\n",
       "\n",
       "    .dataframe tbody tr th {\n",
       "        vertical-align: top;\n",
       "    }\n",
       "</style>\n",
       "<table border=\"1\" class=\"dataframe\">\n",
       "  <thead>\n",
       "    <tr style=\"text-align: right;\">\n",
       "      <th></th>\n",
       "      <th>Percent of Players</th>\n",
       "      <th>Total Count</th>\n",
       "    </tr>\n",
       "    <tr>\n",
       "      <th>Gender</th>\n",
       "      <th></th>\n",
       "      <th></th>\n",
       "    </tr>\n",
       "  </thead>\n",
       "  <tbody>\n",
       "    <tr>\n",
       "      <th>Male</th>\n",
       "      <td>81.11%</td>\n",
       "      <td>524</td>\n",
       "    </tr>\n",
       "    <tr>\n",
       "      <th>Female</th>\n",
       "      <td>17.49%</td>\n",
       "      <td>113</td>\n",
       "    </tr>\n",
       "    <tr>\n",
       "      <th>Other / Non-Disclosed</th>\n",
       "      <td>1.39%</td>\n",
       "      <td>9</td>\n",
       "    </tr>\n",
       "  </tbody>\n",
       "</table>\n",
       "</div>"
      ],
      "text/plain": [
       "                      Percent of Players  Total Count\n",
       "Gender                                               \n",
       "Male                              81.11%          524\n",
       "Female                            17.49%          113\n",
       "Other / Non-Disclosed              1.39%            9"
      ]
     },
     "execution_count": 131,
     "metadata": {},
     "output_type": "execute_result"
    }
   ],
   "source": [
    "df_gender_dem = df_gender_dem.reindex_axis(['Percent of Players','Total Count'],axis=1)\\\n",
    "                .sort_values(by=['Total Count'],ascending=False)\n",
    "df_gender_dem"
   ]
  },
  {
   "cell_type": "markdown",
   "metadata": {
    "collapsed": true
   },
   "source": [
    "# Purchasing Analysis (Gender)"
   ]
  },
  {
   "cell_type": "code",
   "execution_count": 132,
   "metadata": {
    "collapsed": true
   },
   "outputs": [],
   "source": [
    "#group by gender\n",
    "df_purch_anal = pd.DataFrame( df_gender_group[\"Item ID\"].count())"
   ]
  },
  {
   "cell_type": "code",
   "execution_count": 133,
   "metadata": {},
   "outputs": [
    {
     "data": {
      "text/html": [
       "<div>\n",
       "<style>\n",
       "    .dataframe thead tr:only-child th {\n",
       "        text-align: right;\n",
       "    }\n",
       "\n",
       "    .dataframe thead th {\n",
       "        text-align: left;\n",
       "    }\n",
       "\n",
       "    .dataframe tbody tr th {\n",
       "        vertical-align: top;\n",
       "    }\n",
       "</style>\n",
       "<table border=\"1\" class=\"dataframe\">\n",
       "  <thead>\n",
       "    <tr style=\"text-align: right;\">\n",
       "      <th></th>\n",
       "      <th>Purchase Count</th>\n",
       "      <th>Average Purchase Price</th>\n",
       "      <th>Total Purchase Value</th>\n",
       "      <th>Normalized Totals</th>\n",
       "    </tr>\n",
       "    <tr>\n",
       "      <th>Gender</th>\n",
       "      <th></th>\n",
       "      <th></th>\n",
       "      <th></th>\n",
       "      <th></th>\n",
       "    </tr>\n",
       "  </thead>\n",
       "  <tbody>\n",
       "    <tr>\n",
       "      <th>Female</th>\n",
       "      <td>149</td>\n",
       "      <td>$2.85</td>\n",
       "      <td>$424.29</td>\n",
       "      <td>$3.75</td>\n",
       "    </tr>\n",
       "    <tr>\n",
       "      <th>Male</th>\n",
       "      <td>697</td>\n",
       "      <td>$2.94</td>\n",
       "      <td>$2,052.28</td>\n",
       "      <td>$3.92</td>\n",
       "    </tr>\n",
       "    <tr>\n",
       "      <th>Other / Non-Disclosed</th>\n",
       "      <td>12</td>\n",
       "      <td>$3.15</td>\n",
       "      <td>$37.86</td>\n",
       "      <td>$4.21</td>\n",
       "    </tr>\n",
       "  </tbody>\n",
       "</table>\n",
       "</div>"
      ],
      "text/plain": [
       "                       Purchase Count Average Purchase Price  \\\n",
       "Gender                                                         \n",
       "Female                            149                  $2.85   \n",
       "Male                              697                  $2.94   \n",
       "Other / Non-Disclosed              12                  $3.15   \n",
       "\n",
       "                      Total Purchase Value Normalized Totals  \n",
       "Gender                                                        \n",
       "Female                             $424.29             $3.75  \n",
       "Male                             $2,052.28             $3.92  \n",
       "Other / Non-Disclosed               $37.86             $4.21  "
      ]
     },
     "execution_count": 133,
     "metadata": {},
     "output_type": "execute_result"
    }
   ],
   "source": [
    "#get totals ,store and display from dataframe\n",
    "df_purch_anal = df_purch_anal.rename(columns= {'Item ID' :'Purchase Count'})\n",
    "df_purch_anal[\"Average Purchase Price\"] = df_gender_group[\"Price\"].mean()\n",
    "df_purch_anal[\"Total Purchase Value\"] = df_gender_group[\"Price\"].sum()\n",
    "df_purch_anal[\"Normalized Totals\"] = df_purch_anal[\"Total Purchase Value\"] / df_gender_group[\"id_player\"].nunique()\n",
    "df_purch_anal[\"Average Purchase Price\"] = df_purch_anal[\"Average Purchase Price\"].map(\"${0:,.2f}\".format)\n",
    "df_purch_anal[\"Total Purchase Value\"] = df_purch_anal[\"Total Purchase Value\"].map(\"${0:,.2f}\".format)\n",
    "df_purch_anal[\"Normalized Totals\"] =df_purch_anal[\"Normalized Totals\"].map(\"${0:,.2f}\".format)\n",
    "df_purch_anal"
   ]
  },
  {
   "cell_type": "markdown",
   "metadata": {},
   "source": [
    "# Age Demographics"
   ]
  },
  {
   "cell_type": "code",
   "execution_count": 134,
   "metadata": {
    "collapsed": true
   },
   "outputs": [],
   "source": [
    "# Create the bins in which Data will be held\n",
    "bins = [0,9, 14, 19, 24, 29,34,39, 100]\n",
    "\n",
    "# Create the names for bins\n",
    "group_names = [\"< 10\", \"10-14\", \"15-19\", \"20-24\", \"25-29\",\"30-34\",\"35-39\",\"40+\"]\n",
    "\n",
    "# Cut postTestScore and place the scores into bins\n",
    "df_purchase_data[\"Age_Demo\"] = pd.cut(df_purchase_data[\"Age\"], bins, labels=group_names)\n",
    "df_age_demo_grp =  df_purchase_data.groupby(\"Age_Demo\")\n"
   ]
  },
  {
   "cell_type": "code",
   "execution_count": 135,
   "metadata": {
    "collapsed": true
   },
   "outputs": [],
   "source": [
    "#calculate totals, store and display from dataframe\n",
    "df_age_demo = pd.DataFrame(df_age_demo_grp[\"id_player\"].nunique())\n",
    "df_age_demo = df_age_demo.rename(columns = {\"id_player\":\"Total Count\"})"
   ]
  },
  {
   "cell_type": "code",
   "execution_count": 136,
   "metadata": {},
   "outputs": [
    {
     "data": {
      "text/html": [
       "<div>\n",
       "<style>\n",
       "    .dataframe thead tr:only-child th {\n",
       "        text-align: right;\n",
       "    }\n",
       "\n",
       "    .dataframe thead th {\n",
       "        text-align: left;\n",
       "    }\n",
       "\n",
       "    .dataframe tbody tr th {\n",
       "        vertical-align: top;\n",
       "    }\n",
       "</style>\n",
       "<table border=\"1\" class=\"dataframe\">\n",
       "  <thead>\n",
       "    <tr style=\"text-align: right;\">\n",
       "      <th></th>\n",
       "      <th>Total Count</th>\n",
       "      <th>Percent of Players</th>\n",
       "    </tr>\n",
       "    <tr>\n",
       "      <th>Age_Demo</th>\n",
       "      <th></th>\n",
       "      <th></th>\n",
       "    </tr>\n",
       "  </thead>\n",
       "  <tbody>\n",
       "    <tr>\n",
       "      <th>&lt; 10</th>\n",
       "      <td>24</td>\n",
       "      <td>3.72%</td>\n",
       "    </tr>\n",
       "    <tr>\n",
       "      <th>10-14</th>\n",
       "      <td>26</td>\n",
       "      <td>4.02%</td>\n",
       "    </tr>\n",
       "    <tr>\n",
       "      <th>15-19</th>\n",
       "      <td>111</td>\n",
       "      <td>17.18%</td>\n",
       "    </tr>\n",
       "    <tr>\n",
       "      <th>20-24</th>\n",
       "      <td>293</td>\n",
       "      <td>45.36%</td>\n",
       "    </tr>\n",
       "    <tr>\n",
       "      <th>25-29</th>\n",
       "      <td>94</td>\n",
       "      <td>14.55%</td>\n",
       "    </tr>\n",
       "    <tr>\n",
       "      <th>30-34</th>\n",
       "      <td>53</td>\n",
       "      <td>8.20%</td>\n",
       "    </tr>\n",
       "    <tr>\n",
       "      <th>35-39</th>\n",
       "      <td>33</td>\n",
       "      <td>5.11%</td>\n",
       "    </tr>\n",
       "    <tr>\n",
       "      <th>40+</th>\n",
       "      <td>12</td>\n",
       "      <td>1.86%</td>\n",
       "    </tr>\n",
       "  </tbody>\n",
       "</table>\n",
       "</div>"
      ],
      "text/plain": [
       "          Total Count Percent of Players\n",
       "Age_Demo                                \n",
       "< 10               24              3.72%\n",
       "10-14              26              4.02%\n",
       "15-19             111             17.18%\n",
       "20-24             293             45.36%\n",
       "25-29              94             14.55%\n",
       "30-34              53              8.20%\n",
       "35-39              33              5.11%\n",
       "40+                12              1.86%"
      ]
     },
     "execution_count": 136,
     "metadata": {},
     "output_type": "execute_result"
    }
   ],
   "source": [
    "df_age_demo['Percent of Players'] = ((df_age_demo[\"Total Count\"].map(tot_player_ratio)) * 100)\\\n",
    "                                        .map(\"{0:,.2f}%\".format)\n",
    "df_age_demo"
   ]
  },
  {
   "cell_type": "markdown",
   "metadata": {},
   "source": [
    "# Purchasing Analysis (Age)\n"
   ]
  },
  {
   "cell_type": "code",
   "execution_count": 137,
   "metadata": {
    "collapsed": true
   },
   "outputs": [],
   "source": [
    "\n",
    "#calculate totals, store and display from dataframe\n",
    "df_purch_anal_age = pd.DataFrame( df_age_demo_grp[\"Item ID\"].count())"
   ]
  },
  {
   "cell_type": "code",
   "execution_count": 138,
   "metadata": {},
   "outputs": [
    {
     "data": {
      "text/html": [
       "<div>\n",
       "<style>\n",
       "    .dataframe thead tr:only-child th {\n",
       "        text-align: right;\n",
       "    }\n",
       "\n",
       "    .dataframe thead th {\n",
       "        text-align: left;\n",
       "    }\n",
       "\n",
       "    .dataframe tbody tr th {\n",
       "        vertical-align: top;\n",
       "    }\n",
       "</style>\n",
       "<table border=\"1\" class=\"dataframe\">\n",
       "  <thead>\n",
       "    <tr style=\"text-align: right;\">\n",
       "      <th></th>\n",
       "      <th>Purchase Count</th>\n",
       "      <th>Average Purchase Price</th>\n",
       "      <th>Total Purchase Value</th>\n",
       "      <th>Normalized Totals</th>\n",
       "    </tr>\n",
       "    <tr>\n",
       "      <th>Age_Demo</th>\n",
       "      <th></th>\n",
       "      <th></th>\n",
       "      <th></th>\n",
       "      <th></th>\n",
       "    </tr>\n",
       "  </thead>\n",
       "  <tbody>\n",
       "    <tr>\n",
       "      <th>&lt; 10</th>\n",
       "      <td>33</td>\n",
       "      <td>$2.95</td>\n",
       "      <td>$97.28</td>\n",
       "      <td>$4.05</td>\n",
       "    </tr>\n",
       "    <tr>\n",
       "      <th>10-14</th>\n",
       "      <td>38</td>\n",
       "      <td>$2.79</td>\n",
       "      <td>$105.91</td>\n",
       "      <td>$4.07</td>\n",
       "    </tr>\n",
       "    <tr>\n",
       "      <th>15-19</th>\n",
       "      <td>144</td>\n",
       "      <td>$2.89</td>\n",
       "      <td>$416.83</td>\n",
       "      <td>$3.76</td>\n",
       "    </tr>\n",
       "    <tr>\n",
       "      <th>20-24</th>\n",
       "      <td>372</td>\n",
       "      <td>$2.92</td>\n",
       "      <td>$1,087.66</td>\n",
       "      <td>$3.71</td>\n",
       "    </tr>\n",
       "    <tr>\n",
       "      <th>25-29</th>\n",
       "      <td>134</td>\n",
       "      <td>$2.96</td>\n",
       "      <td>$396.44</td>\n",
       "      <td>$4.22</td>\n",
       "    </tr>\n",
       "    <tr>\n",
       "      <th>30-34</th>\n",
       "      <td>71</td>\n",
       "      <td>$2.97</td>\n",
       "      <td>$211.14</td>\n",
       "      <td>$3.98</td>\n",
       "    </tr>\n",
       "    <tr>\n",
       "      <th>35-39</th>\n",
       "      <td>48</td>\n",
       "      <td>$2.93</td>\n",
       "      <td>$140.77</td>\n",
       "      <td>$4.27</td>\n",
       "    </tr>\n",
       "    <tr>\n",
       "      <th>40+</th>\n",
       "      <td>18</td>\n",
       "      <td>$3.24</td>\n",
       "      <td>$58.40</td>\n",
       "      <td>$4.87</td>\n",
       "    </tr>\n",
       "  </tbody>\n",
       "</table>\n",
       "</div>"
      ],
      "text/plain": [
       "          Purchase Count Average Purchase Price Total Purchase Value  \\\n",
       "Age_Demo                                                               \n",
       "< 10                  33                  $2.95               $97.28   \n",
       "10-14                 38                  $2.79              $105.91   \n",
       "15-19                144                  $2.89              $416.83   \n",
       "20-24                372                  $2.92            $1,087.66   \n",
       "25-29                134                  $2.96              $396.44   \n",
       "30-34                 71                  $2.97              $211.14   \n",
       "35-39                 48                  $2.93              $140.77   \n",
       "40+                   18                  $3.24               $58.40   \n",
       "\n",
       "         Normalized Totals  \n",
       "Age_Demo                    \n",
       "< 10                 $4.05  \n",
       "10-14                $4.07  \n",
       "15-19                $3.76  \n",
       "20-24                $3.71  \n",
       "25-29                $4.22  \n",
       "30-34                $3.98  \n",
       "35-39                $4.27  \n",
       "40+                  $4.87  "
      ]
     },
     "execution_count": 138,
     "metadata": {},
     "output_type": "execute_result"
    }
   ],
   "source": [
    "#calculate totals , rearrange columns , store and display dataframe\n",
    "df_purch_anal_age = df_purch_anal_age.rename(columns= {'Item ID' :'Purchase Count'})\n",
    "df_purch_anal_age[\"Average Purchase Price\"] = df_age_demo_grp[\"Price\"].mean()\n",
    "df_purch_anal_age[\"Total Purchase Value\"] = df_age_demo_grp[\"Price\"].sum()\n",
    "df_purch_anal_age[\"Normalized Totals\"] = df_purch_anal_age[\"Total Purchase Value\"] / df_age_demo_grp[\"id_player\"].nunique()\n",
    "df_purch_anal_age[\"Average Purchase Price\"] = df_purch_anal_age[\"Average Purchase Price\"].map(\"${0:,.2f}\".format)\n",
    "df_purch_anal_age[\"Total Purchase Value\"] = df_purch_anal_age[\"Total Purchase Value\"].map(\"${0:,.2f}\".format)\n",
    "df_purch_anal_age[\"Normalized Totals\"] =df_purch_anal_age[\"Normalized Totals\"].map(\"${0:,.2f}\".format)\n",
    "df_purch_anal_age"
   ]
  },
  {
   "cell_type": "markdown",
   "metadata": {},
   "source": [
    "# Top Spenders"
   ]
  },
  {
   "cell_type": "code",
   "execution_count": 139,
   "metadata": {
    "collapsed": true
   },
   "outputs": [],
   "source": [
    "#group by player ID\n",
    "df_player_grp =  df_purchase_data.groupby(\"id_player\")\n"
   ]
  },
  {
   "cell_type": "code",
   "execution_count": 140,
   "metadata": {
    "collapsed": true
   },
   "outputs": [],
   "source": [
    "\n",
    "df_player_stats = pd.DataFrame( df_player_grp[\"Item ID\"].count())\n"
   ]
  },
  {
   "cell_type": "code",
   "execution_count": 141,
   "metadata": {},
   "outputs": [
    {
     "data": {
      "text/html": [
       "<div>\n",
       "<style>\n",
       "    .dataframe thead tr:only-child th {\n",
       "        text-align: right;\n",
       "    }\n",
       "\n",
       "    .dataframe thead th {\n",
       "        text-align: left;\n",
       "    }\n",
       "\n",
       "    .dataframe tbody tr th {\n",
       "        vertical-align: top;\n",
       "    }\n",
       "</style>\n",
       "<table border=\"1\" class=\"dataframe\">\n",
       "  <thead>\n",
       "    <tr style=\"text-align: right;\">\n",
       "      <th></th>\n",
       "      <th>Purchase Count</th>\n",
       "      <th>Average Purchase Price</th>\n",
       "      <th>Total Purchase Value</th>\n",
       "    </tr>\n",
       "    <tr>\n",
       "      <th>id_player</th>\n",
       "      <th></th>\n",
       "      <th></th>\n",
       "      <th></th>\n",
       "    </tr>\n",
       "  </thead>\n",
       "  <tbody>\n",
       "    <tr>\n",
       "      <th>Undirrala66-29-Male</th>\n",
       "      <td>5</td>\n",
       "      <td>$3.41</td>\n",
       "      <td>$17.06</td>\n",
       "    </tr>\n",
       "    <tr>\n",
       "      <th>Saedue76-25-Male</th>\n",
       "      <td>4</td>\n",
       "      <td>$3.39</td>\n",
       "      <td>$13.56</td>\n",
       "    </tr>\n",
       "    <tr>\n",
       "      <th>Mindimnya67-39-Female</th>\n",
       "      <td>4</td>\n",
       "      <td>$3.18</td>\n",
       "      <td>$12.74</td>\n",
       "    </tr>\n",
       "    <tr>\n",
       "      <th>Haellysu29-21-Male</th>\n",
       "      <td>3</td>\n",
       "      <td>$4.24</td>\n",
       "      <td>$12.73</td>\n",
       "    </tr>\n",
       "    <tr>\n",
       "      <th>Eoda93-22-Male</th>\n",
       "      <td>3</td>\n",
       "      <td>$3.86</td>\n",
       "      <td>$11.58</td>\n",
       "    </tr>\n",
       "  </tbody>\n",
       "</table>\n",
       "</div>"
      ],
      "text/plain": [
       "                       Purchase Count Average Purchase Price  \\\n",
       "id_player                                                      \n",
       "Undirrala66-29-Male                 5                  $3.41   \n",
       "Saedue76-25-Male                    4                  $3.39   \n",
       "Mindimnya67-39-Female               4                  $3.18   \n",
       "Haellysu29-21-Male                  3                  $4.24   \n",
       "Eoda93-22-Male                      3                  $3.86   \n",
       "\n",
       "                      Total Purchase Value  \n",
       "id_player                                   \n",
       "Undirrala66-29-Male                 $17.06  \n",
       "Saedue76-25-Male                    $13.56  \n",
       "Mindimnya67-39-Female               $12.74  \n",
       "Haellysu29-21-Male                  $12.73  \n",
       "Eoda93-22-Male                      $11.58  "
      ]
     },
     "execution_count": 141,
     "metadata": {},
     "output_type": "execute_result"
    }
   ],
   "source": [
    "df_player_stats = df_player_stats.rename(columns= {'Item ID' :'Purchase Count'})\n",
    "df_player_stats[\"Average Purchase Price\"] = df_player_grp[\"Price\"].mean()\n",
    "df_player_stats[\"Total Purchase Value\"] = df_player_grp[\"Price\"].sum()\n",
    "df_player_stats = df_player_stats.sort_values(by=['Total Purchase Value'],ascending=False)\n",
    "df_player_stats = df_player_stats.iloc[0:5,:]\n",
    "\n",
    "\n",
    "df_player_stats[\"Average Purchase Price\"] = df_player_stats[\"Average Purchase Price\"].map(\"${0:,.2f}\".format)\n",
    "df_player_stats[\"Total Purchase Value\"] = df_player_stats[\"Total Purchase Value\"].map(\"${0:,.2f}\".format)\n",
    "\n",
    "df_player_stats"
   ]
  },
  {
   "cell_type": "markdown",
   "metadata": {},
   "source": [
    "# Most Popular Items"
   ]
  },
  {
   "cell_type": "code",
   "execution_count": 142,
   "metadata": {},
   "outputs": [
    {
     "data": {
      "text/html": [
       "<div>\n",
       "<style>\n",
       "    .dataframe thead tr:only-child th {\n",
       "        text-align: right;\n",
       "    }\n",
       "\n",
       "    .dataframe thead th {\n",
       "        text-align: left;\n",
       "    }\n",
       "\n",
       "    .dataframe tbody tr th {\n",
       "        vertical-align: top;\n",
       "    }\n",
       "</style>\n",
       "<table border=\"1\" class=\"dataframe\">\n",
       "  <thead>\n",
       "    <tr style=\"text-align: right;\">\n",
       "      <th></th>\n",
       "      <th>Item Name</th>\n",
       "      <th>Purchase Count</th>\n",
       "      <th>Item Price</th>\n",
       "      <th>Total Purchase Value</th>\n",
       "    </tr>\n",
       "    <tr>\n",
       "      <th>Item ID</th>\n",
       "      <th></th>\n",
       "      <th></th>\n",
       "      <th></th>\n",
       "      <th></th>\n",
       "    </tr>\n",
       "  </thead>\n",
       "  <tbody>\n",
       "    <tr>\n",
       "      <th>84</th>\n",
       "      <td>Arcane Gem</td>\n",
       "      <td>12</td>\n",
       "      <td>$4.81</td>\n",
       "      <td>$29.34</td>\n",
       "    </tr>\n",
       "    <tr>\n",
       "      <th>39</th>\n",
       "      <td>Betrayal, Whisper of Grieving Widows</td>\n",
       "      <td>11</td>\n",
       "      <td>$2.35</td>\n",
       "      <td>$25.85</td>\n",
       "    </tr>\n",
       "    <tr>\n",
       "      <th>31</th>\n",
       "      <td>Trickster</td>\n",
       "      <td>10</td>\n",
       "      <td>$4.59</td>\n",
       "      <td>$23.22</td>\n",
       "    </tr>\n",
       "    <tr>\n",
       "      <th>34</th>\n",
       "      <td>Retribution Axe</td>\n",
       "      <td>9</td>\n",
       "      <td>$4.14</td>\n",
       "      <td>$37.26</td>\n",
       "    </tr>\n",
       "    <tr>\n",
       "      <th>107</th>\n",
       "      <td>Splitter, Foe Of Subtlety</td>\n",
       "      <td>9</td>\n",
       "      <td>$4.15</td>\n",
       "      <td>$33.03</td>\n",
       "    </tr>\n",
       "  </tbody>\n",
       "</table>\n",
       "</div>"
      ],
      "text/plain": [
       "                                    Item Name  Purchase Count Item Price  \\\n",
       "Item ID                                                                    \n",
       "84                                 Arcane Gem              12      $4.81   \n",
       "39       Betrayal, Whisper of Grieving Widows              11      $2.35   \n",
       "31                                  Trickster              10      $4.59   \n",
       "34                            Retribution Axe               9      $4.14   \n",
       "107                 Splitter, Foe Of Subtlety               9      $4.15   \n",
       "\n",
       "        Total Purchase Value  \n",
       "Item ID                       \n",
       "84                    $29.34  \n",
       "39                    $25.85  \n",
       "31                    $23.22  \n",
       "34                    $37.26  \n",
       "107                   $33.03  "
      ]
     },
     "execution_count": 142,
     "metadata": {},
     "output_type": "execute_result"
    }
   ],
   "source": [
    "#group by player ID\n",
    "df_item_grp =  df_purchase_data.groupby(\"Item ID\")\n",
    "df_item_grp.count()\n",
    "df_item_stats = pd.DataFrame( df_item_grp[\"Item ID\"].count())\n",
    "df_item_stats = df_item_stats.rename(columns= {'Item ID' :'Purchase Count'})\n",
    "dlookup = df_purchase_data.set_index(\"Item ID\")[\"Item Name\"].to_dict()\n",
    "df_item_stats[\"Item Name\"] = pd.Series(dlookup)\n",
    "\n",
    "df_item_stats = df_item_stats.reindex_axis([\"Item Name\",'Purchase Count'],axis=1)\\\n",
    "\n",
    "\n",
    "dlookup = df_purchase_data.set_index(\"Item ID\")[\"Price\"].to_dict()\n",
    "df_item_stats[\"Item Price\"] = pd.Series(dlookup)\n",
    "df_item_stats[\"Total Purchase Value\"] = df_item_grp[\"Price\"].sum()\n",
    "\n",
    "df_most_pop = df_item_stats.sort_values(by=['Purchase Count','Total Purchase Value'],ascending=False)\n",
    "df_most_pop = df_most_pop.iloc[0:5,:]\n",
    "df_most_pop[\"Item Price\"] = df_most_pop[\"Item Price\"].map(\"${0:,.2f}\".format)\n",
    "df_most_pop[\"Total Purchase Value\"] = df_most_pop[\"Total Purchase Value\"].map(\"${0:,.2f}\".format)\n",
    "df_most_pop\n"
   ]
  },
  {
   "cell_type": "markdown",
   "metadata": {},
   "source": [
    "# Most Profitable Items"
   ]
  },
  {
   "cell_type": "code",
   "execution_count": 143,
   "metadata": {
    "collapsed": true
   },
   "outputs": [],
   "source": [
    "df_most_profitable = df_item_stats.sort_values(by=['Total Purchase Value'],ascending=False)"
   ]
  },
  {
   "cell_type": "code",
   "execution_count": 144,
   "metadata": {},
   "outputs": [
    {
     "data": {
      "text/html": [
       "<div>\n",
       "<style>\n",
       "    .dataframe thead tr:only-child th {\n",
       "        text-align: right;\n",
       "    }\n",
       "\n",
       "    .dataframe thead th {\n",
       "        text-align: left;\n",
       "    }\n",
       "\n",
       "    .dataframe tbody tr th {\n",
       "        vertical-align: top;\n",
       "    }\n",
       "</style>\n",
       "<table border=\"1\" class=\"dataframe\">\n",
       "  <thead>\n",
       "    <tr style=\"text-align: right;\">\n",
       "      <th></th>\n",
       "      <th>Item Name</th>\n",
       "      <th>Purchase Count</th>\n",
       "      <th>Item Price</th>\n",
       "      <th>Total Purchase Value</th>\n",
       "    </tr>\n",
       "    <tr>\n",
       "      <th>Item ID</th>\n",
       "      <th></th>\n",
       "      <th></th>\n",
       "      <th></th>\n",
       "      <th></th>\n",
       "    </tr>\n",
       "  </thead>\n",
       "  <tbody>\n",
       "    <tr>\n",
       "      <th>34</th>\n",
       "      <td>Retribution Axe</td>\n",
       "      <td>9</td>\n",
       "      <td>$4.14</td>\n",
       "      <td>$37.26</td>\n",
       "    </tr>\n",
       "    <tr>\n",
       "      <th>107</th>\n",
       "      <td>Splitter, Foe Of Subtlety</td>\n",
       "      <td>9</td>\n",
       "      <td>$4.15</td>\n",
       "      <td>$33.03</td>\n",
       "    </tr>\n",
       "    <tr>\n",
       "      <th>115</th>\n",
       "      <td>Spectral Diamond Doomblade</td>\n",
       "      <td>7</td>\n",
       "      <td>$4.25</td>\n",
       "      <td>$29.75</td>\n",
       "    </tr>\n",
       "    <tr>\n",
       "      <th>32</th>\n",
       "      <td>Orenmir</td>\n",
       "      <td>6</td>\n",
       "      <td>$4.95</td>\n",
       "      <td>$29.70</td>\n",
       "    </tr>\n",
       "    <tr>\n",
       "      <th>84</th>\n",
       "      <td>Arcane Gem</td>\n",
       "      <td>12</td>\n",
       "      <td>$4.81</td>\n",
       "      <td>$29.34</td>\n",
       "    </tr>\n",
       "  </tbody>\n",
       "</table>\n",
       "</div>"
      ],
      "text/plain": [
       "                          Item Name  Purchase Count Item Price  \\\n",
       "Item ID                                                          \n",
       "34                  Retribution Axe               9      $4.14   \n",
       "107       Splitter, Foe Of Subtlety               9      $4.15   \n",
       "115      Spectral Diamond Doomblade               7      $4.25   \n",
       "32                          Orenmir               6      $4.95   \n",
       "84                       Arcane Gem              12      $4.81   \n",
       "\n",
       "        Total Purchase Value  \n",
       "Item ID                       \n",
       "34                    $37.26  \n",
       "107                   $33.03  \n",
       "115                   $29.75  \n",
       "32                    $29.70  \n",
       "84                    $29.34  "
      ]
     },
     "execution_count": 144,
     "metadata": {},
     "output_type": "execute_result"
    }
   ],
   "source": [
    "df_most_profitable = df_most_profitable.iloc[0:5,:]\n",
    "df_most_profitable[\"Item Price\"] = df_most_profitable[\"Item Price\"].map(\"${0:,.2f}\".format)\n",
    "df_most_profitable[\"Total Purchase Value\"] = df_most_profitable[\"Total Purchase Value\"].map(\"${0:,.2f}\".format)\n",
    "df_most_profitable"
   ]
  },
  {
   "cell_type": "code",
   "execution_count": null,
   "metadata": {
    "collapsed": true
   },
   "outputs": [],
   "source": []
  }
 ],
 "metadata": {
  "kernelspec": {
   "display_name": "Python 3",
   "language": "python",
   "name": "python3"
  },
  "language_info": {
   "codemirror_mode": {
    "name": "ipython",
    "version": 3
   },
   "file_extension": ".py",
   "mimetype": "text/x-python",
   "name": "python",
   "nbconvert_exporter": "python",
   "pygments_lexer": "ipython3",
   "version": "3.6.2"
  }
 },
 "nbformat": 4,
 "nbformat_minor": 2
}
